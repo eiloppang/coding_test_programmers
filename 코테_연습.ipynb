{
  "nbformat": 4,
  "nbformat_minor": 0,
  "metadata": {
    "colab": {
      "provenance": [],
      "authorship_tag": "ABX9TyNFaISsYyEKbIlmShle2kK/",
      "include_colab_link": true
    },
    "kernelspec": {
      "name": "python3",
      "display_name": "Python 3"
    },
    "language_info": {
      "name": "python"
    }
  },
  "cells": [
    {
      "cell_type": "markdown",
      "metadata": {
        "id": "view-in-github",
        "colab_type": "text"
      },
      "source": [
        "<a href=\"https://colab.research.google.com/github/eiloppang/coding_test_programmers/blob/main/%EC%BD%94%ED%85%8C_%EC%97%B0%EC%8A%B5.ipynb\" target=\"_parent\"><img src=\"https://colab.research.google.com/assets/colab-badge.svg\" alt=\"Open In Colab\"/></a>"
      ]
    },
    {
      "cell_type": "code",
      "execution_count": null,
      "metadata": {
        "colab": {
          "base_uri": "https://localhost:8080/"
        },
        "id": "UaoJ_6cE4KYu",
        "outputId": "0e5f7f2e-fd91-4e78-d729-73e5f3c486f5"
      },
      "outputs": [
        {
          "output_type": "stream",
          "name": "stdout",
          "text": [
            "5 7 2\n",
            "3 4 3 4 3\n",
            "28\n"
          ]
        }
      ],
      "source": [
        "# 1\n",
        "n, m, k = map(int, input().split()) # 기억이 안 나서 (그래서 쳐 봤어 한 번에 받는 방법)\n",
        "\n",
        "if k > m:\n",
        "  print('Error!')\n",
        "\n",
        "data = [int(n) for n in input().split()]\n",
        "# print(data)\n",
        "\n",
        "# sort가 in-place가 되는 거!\n",
        "data.sort() # 덮어쓰지 말자! sorted() <- 이거를 바로 써야하는 구나\n",
        "i = n\n",
        "oneCulc = data[i - 1]\n",
        "twoCulc = data[i - 2]\n",
        "\n",
        "\n",
        "# 최종 결과 값\n",
        "result = 0\n",
        "x= 1\n",
        "# k까지 갔는지?\n",
        "count = 0\n",
        "for x in range(m):\n",
        "  count += 1\n",
        "  if count <= k:\n",
        "    result += oneCulc\n",
        "  else:\n",
        "    result += twoCulc\n",
        "    count = 0 # 다시 0 만들고 if문 돌아가게끔\n",
        "\n",
        "print(result)"
      ]
    },
    {
      "cell_type": "code",
      "source": [
        "N,M,K = map(int, input().split())\n",
        "N_array = map(int, input().split())\n",
        "N_array = list(N_array)\n",
        "print(type(N_array))\n",
        "N_array.sort()\n",
        "print(N_array)"
      ],
      "metadata": {
        "colab": {
          "base_uri": "https://localhost:8080/"
        },
        "id": "jeVjcpJbu-_o",
        "outputId": "11ee4a68-58e9-43c8-99a4-d1e522bc9a49"
      },
      "execution_count": null,
      "outputs": [
        {
          "output_type": "stream",
          "name": "stdout",
          "text": [
            "5 7 2\n",
            "3 4 3 4 3\n",
            "<class 'list'>\n",
            "[3, 3, 3, 4, 4]\n"
          ]
        }
      ]
    },
    {
      "cell_type": "code",
      "source": [
        "# 2\n",
        "N, M = map(int, input().split())\n",
        "\n",
        "matrix = []\n",
        "result = 0\n",
        "\n",
        "for _ in range(N):\n",
        "  n_row = list(map(int, input().split()))\n",
        "\n",
        "  if not len(n_row) == M:\n",
        "    raise Exception('M을 고려하여 다시 입력해주세요.')\n",
        "\n",
        "  matrix.append(min(n_row))\n",
        "\n",
        "result = max(matrix)\n",
        "print(result)"
      ],
      "metadata": {
        "colab": {
          "base_uri": "https://localhost:8080/"
        },
        "id": "ZWnI2cMF6dPe",
        "outputId": "bf6a68be-ba80-46a0-f8e5-ceefc24eff95"
      },
      "execution_count": null,
      "outputs": [
        {
          "output_type": "stream",
          "name": "stdout",
          "text": [
            "3 3\n",
            "3 1 2\n",
            "4 1 4\n",
            "2 2 2\n",
            "2\n"
          ]
        }
      ]
    },
    {
      "cell_type": "code",
      "source": [
        "people = [70, 50, 80, 50]\n",
        "answer = 0\n",
        "people.sort()\n",
        "limit = 100\n",
        "print(people)\n",
        "\n",
        "left = 0\n",
        "right = len(people) - 1\n",
        "\n",
        "while left <= right:\n",
        "  if people[left] + people[right] <= limit:\n",
        "    left += 1\n",
        "    right -= 1\n",
        "  else:\n",
        "    right -=1\n",
        "  answer += 1\n",
        "\n",
        "print(answer)"
      ],
      "metadata": {
        "colab": {
          "base_uri": "https://localhost:8080/"
        },
        "id": "7B36HBj0E7wX",
        "outputId": "318bb64b-0864-41c4-d1b2-ad3c8dfc938f"
      },
      "execution_count": null,
      "outputs": [
        {
          "output_type": "stream",
          "name": "stdout",
          "text": [
            "[50, 50, 70, 80]\n",
            "3\n"
          ]
        }
      ]
    },
    {
      "cell_type": "code",
      "source": [
        "def solution(people, limit):\n",
        "    answer = 0\n",
        "\n",
        "    # 작은 수부터 배열\n",
        "    people.sort()\n",
        "    left = 0\n",
        "    right = len(people) - 1\n",
        "\n",
        "    while left <= right:\n",
        "        if people[left] + people[right] <= limit:\n",
        "            left += 1\n",
        "            right -= 1\n",
        "        else:\n",
        "            right -= 1\n",
        "        answer += 1\n",
        "\n",
        "    return answer"
      ],
      "metadata": {
        "id": "cz4zBGRrZ_No"
      },
      "execution_count": null,
      "outputs": []
    },
    {
      "cell_type": "code",
      "source": [
        "def solution(name):\n",
        "    answer = 0\n",
        "    updown_list = [min(ord(n) - ord('A'), 26 - (ord(n) - ord('A'))) for n in name] # 아스키 코드 이용해서 일단 A~Z까지 다 (Z의 경우에는 26 - (ord(n) - ord('A')) 이게 더 작음)\n",
        "    min_answer = len(name) - 1 # 좌우 일단 최소 (AAB / AAAB: 일단 직진하면 좌우가 n-1 / 물론 AAB도 걍 바로 오른쪽 갔다가 하면 됨)\n",
        "    answer += sum(updown_list) # 상하 이동\n",
        "\n",
        "    for i in range(len(name)):\n",
        "        next = i + 1\n",
        "        while next < len(name) and name[next] == 'A':\n",
        "            next += 1\n",
        "\n",
        "        min_case1 = min_answer  # 직진\n",
        "        min_case2 = 2 * i + (len(name) - next)  # 되돌아가기\n",
        "        min_case3 = i + 2 * (len(name) - next)  # 공통 A 들어가기 전까지 / 그 다음에 돌아감\n",
        "\n",
        "        min_answer = min(min_case1, min_case2, min_case3)\n",
        "\n",
        "    answer += min_answer\n",
        "\n",
        "    return answer\n",
        "\n",
        "print(solution(\"JAZ\"))\n",
        "print(solution(\"BAAABA\"))\n",
        "print(solution(\"BAAABA\"))"
      ],
      "metadata": {
        "colab": {
          "base_uri": "https://localhost:8080/"
        },
        "id": "XTYAzoOfrTds",
        "outputId": "c70c7eca-076b-4f4d-eea1-d84cbb75f8ad"
      },
      "execution_count": null,
      "outputs": [
        {
          "output_type": "stream",
          "name": "stdout",
          "text": [
            "11\n",
            "4\n"
          ]
        }
      ]
    },
    {
      "cell_type": "code",
      "source": [
        "class Singleton(object):\n",
        "  def __new__(cls):\n",
        "    if not hasattr(cls, 'instance'):\n",
        "      cls.instance = super(Singleton, cls).__new__(cls)\n",
        "    return cls.instance\n",
        "\n",
        "s = Singleton()\n",
        "print(\"Object created\", s)\n",
        "\n",
        "s1 = Singleton()\n",
        "print(\"Object created\", s1)\n",
        "\n",
        "print(id(s), id(s1))"
      ],
      "metadata": {
        "colab": {
          "base_uri": "https://localhost:8080/"
        },
        "id": "J0xLuwSaR1Zt",
        "outputId": "7438484a-ab6e-40cf-a6c5-231f05a82c30"
      },
      "execution_count": null,
      "outputs": [
        {
          "output_type": "stream",
          "name": "stdout",
          "text": [
            "Object created <__main__.Singleton object at 0x7c0b88eaeaa0>\n",
            "Object created <__main__.Singleton object at 0x7c0b88eaeaa0>\n",
            "136388983581344 136388983581344\n"
          ]
        }
      ]
    },
    {
      "cell_type": "code",
      "source": [
        "class Singleton:\n",
        "  __instance = None\n",
        "  def __init__(self):\n",
        "    if not Singleton.__instance:\n",
        "      print(\"__init__ method called..\")\n",
        "    else:\n",
        "      print(\"Instance already created:\", self.getInstance())\n",
        "\n",
        "  @classmethod\n",
        "  def getInstance(cls):\n",
        "    if not cls.__instance:\n",
        "      cls.__instance = Singleton()\n",
        "    return cls.__instance\n",
        "\n",
        "s = Singleton()\n",
        "print(\"Object created\", Singleton.getInstance())\n",
        "s1 = Singleton()"
      ],
      "metadata": {
        "colab": {
          "base_uri": "https://localhost:8080/"
        },
        "id": "yo04Pt6JU8Nv",
        "outputId": "f00bb7ff-309a-4e1e-e20e-caf6f4219333"
      },
      "execution_count": null,
      "outputs": [
        {
          "output_type": "stream",
          "name": "stdout",
          "text": [
            "__init__ method called..\n",
            "__init__ method called..\n",
            "Object created <__main__.Singleton object at 0x7c0b89037be0>\n",
            "Instance already created: <__main__.Singleton object at 0x7c0b89037be0>\n"
          ]
        }
      ]
    },
    {
      "cell_type": "code",
      "source": [
        "class Borg:\n",
        "  __shared_state = {\"1\": \"2\"}\n",
        "  def __init__(self):\n",
        "    self.x = 1\n",
        "    self.__dict__ = self.__shared_state\n",
        "    pass\n",
        "\n",
        "b = Borg()\n",
        "b1 = Borg()\n",
        "b.x = 4\n",
        "\n",
        "print(\"Borg Object 'b': \", b)\n",
        "print(\"Borg Object 'b1': \", b1)\n",
        "print(\"Object State 'b': \", b.__dict__)\n",
        "print(\"Object State 'b1': \", b1.__dict__)\n"
      ],
      "metadata": {
        "colab": {
          "base_uri": "https://localhost:8080/"
        },
        "id": "pSGpW852XUHn",
        "outputId": "993f671b-b948-4b57-86ac-b7b098519445"
      },
      "execution_count": null,
      "outputs": [
        {
          "output_type": "stream",
          "name": "stdout",
          "text": [
            "Borg Object 'b':  <__main__.Borg object at 0x7c0b476cf310>\n",
            "Borg Object 'b1':  <__main__.Borg object at 0x7c0b476cccd0>\n",
            "Object State 'b':  {'1': '2', 'x': 4}\n",
            "Object State 'b1':  {'1': '2', 'x': 4}\n"
          ]
        }
      ]
    },
    {
      "cell_type": "code",
      "source": [
        "from heapq import heappush, heappop\n",
        "\n",
        "def solution(operations):\n",
        "    answer = []\n",
        "\n",
        "    heap = []\n",
        "\n",
        "    for operation in operations:\n",
        "      eng, num = operation.split()\n",
        "      num = int(num)\n",
        "\n",
        "      if eng == \"I\":\n",
        "        heappush(heap, num)\n",
        "      elif eng == \"D\" and num == -1:\n",
        "        if len(heap) != 0:\n",
        "          heappop(heap) # heap에서 가장 작은 원소 제거\n",
        "      elif eng == \"D\" and num == 1:\n",
        "        if len(heap) != 0:\n",
        "          heap.sort()\n",
        "          heap.pop()\n",
        "\n",
        "\n",
        "    heap.sort()\n",
        "    if len(heap) == 0:\n",
        "      answer = [0, 0]\n",
        "    else:\n",
        "      answer = [heap[-1], heap[0]]\n",
        "\n",
        "\n",
        "    return answer\n",
        "\n",
        "print(solution([\"I 16\", \"I -5643\", \"D -1\", \"D 1\", \"D 1\", \"I 123\", \"D -1\"]))\n",
        "print(solution([\"I -45\", \"I 653\", \"D 1\", \"I -642\", \"I 45\", \"I 97\", \"D 1\", \"D -1\", \"I 333\"]))\n"
      ],
      "metadata": {
        "colab": {
          "base_uri": "https://localhost:8080/"
        },
        "id": "mUioqNZFgN4M",
        "outputId": "8b89e823-c941-4f22-fa44-17312d4ccda3"
      },
      "execution_count": null,
      "outputs": [
        {
          "output_type": "stream",
          "name": "stdout",
          "text": [
            "[0, 0]\n",
            "[333, -45]\n"
          ]
        }
      ]
    },
    {
      "cell_type": "code",
      "source": [
        "A = [[0, 3], [1, 9], [3, 5]]\n",
        "A.sort()\n",
        "print(A)"
      ],
      "metadata": {
        "colab": {
          "base_uri": "https://localhost:8080/"
        },
        "id": "SGtzAPQFiCtR",
        "outputId": "972d1e61-f1e4-466a-b8ea-5f53123e21d5"
      },
      "execution_count": null,
      "outputs": [
        {
          "output_type": "stream",
          "name": "stdout",
          "text": [
            "[[0, 3], [1, 9], [3, 5]]\n"
          ]
        }
      ]
    },
    {
      "cell_type": "code",
      "source": [
        "# 우선순위인 걸까? 라는 생각이 들어서\n",
        "# 여러 군데를 이제 찾아보니까\n",
        "# SJF\n",
        "\n",
        "from heapq import heappush, heappop\n",
        "\n",
        "def solution(jobs):\n",
        "    answer = 0 # 작업 요청 ~ 끝까지 걸린 시간\n",
        "    now = 0 # 지금 어떤 시점에 위치해 있는가?\n",
        "    i = 0 # i번 작업\n",
        "    prev = -1 # 이전 작업(초기화 역할)\n",
        "    heap = [] # 소요시간, 요청시간 넣기(우선순위가 제일 높으니까)\n",
        "\n",
        "    # 작업 다 돌아야 하니까\n",
        "    while i < len(jobs):\n",
        "      # 1. 현재 시점에서 처리 가능함\n",
        "      for job in jobs:\n",
        "        # 요청 시간이 현재 시간 이전 and 이전 작업 이후에 요청된 작업\n",
        "        if job[0] <= now and prev < job[0]:\n",
        "          heappush(heap, [job[1], job[0]]) # 소요시간, 요청시간 순서대로 넣기\n",
        "\n",
        "      # 2. 힙에 작업이 존재\n",
        "      # == if len(heap) > 0: Pythonic한 언어\n",
        "      if heap:\n",
        "        take, request = heappop(heap)\n",
        "        prev = now # 업데이트\n",
        "        now += take # 소요시간 더함\n",
        "        answer += (now - request)\n",
        "        i += 1\n",
        "      else:\n",
        "        now += 1\n",
        "\n",
        "    return answer // len(jobs)"
      ],
      "metadata": {
        "id": "mwL98hvhKmk7"
      },
      "execution_count": null,
      "outputs": []
    },
    {
      "cell_type": "code",
      "source": [
        "from heapq import heappop, heappush, heapify\n",
        "\n",
        "def solution(scoville, K):\n",
        "    answer = 0\n",
        "\n",
        "    heapify(scoville)\n",
        "\n",
        "    one, two = heappop(scoville), heappop(scoville)\n",
        "    moreS = one + (two * 2)\n",
        "\n",
        "    while moreS < K:\n",
        "      heappush(scoville, moreS)\n",
        "      one, two = heappop(scoville), heappop(scoville)\n",
        "      moreS = one + (two * 2)\n",
        "      answer += 1\n",
        "\n",
        "\n",
        "    return answer\n",
        "\n",
        "S = [1, 2, 3, 9, 10, 12]\n",
        "print(solution(S, 7))"
      ],
      "metadata": {
        "colab": {
          "base_uri": "https://localhost:8080/"
        },
        "id": "ALq76zRQNFFE",
        "outputId": "f6d7ad26-bbcb-4fab-a22e-c4420c2169bc"
      },
      "execution_count": null,
      "outputs": [
        {
          "output_type": "stream",
          "name": "stdout",
          "text": [
            "0\n"
          ]
        }
      ]
    },
    {
      "cell_type": "code",
      "source": [
        "def solution(numbers, target):\n",
        "    answer = 0\n",
        "\n",
        "    def dfs(now_index, now_sum):\n",
        "        nonlocal answer\n",
        "\n",
        "        if now_index == len(numbers):\n",
        "            if now_sum == target:\n",
        "                answer += 1\n",
        "            return\n",
        "\n",
        "        dfs(now_index + 1, now_sum + numbers[now_index])\n",
        "        dfs(now_index + 1, now_sum - numbers[now_index])\n",
        "\n",
        "    dfs(0, 0)\n",
        "\n",
        "    return answer\n",
        "\n",
        "\n",
        "numbers = [1, 1, 1, 1, 1]\n",
        "target = 3\n",
        "print(solution(numbers, target))\n"
      ],
      "metadata": {
        "colab": {
          "base_uri": "https://localhost:8080/"
        },
        "id": "8u_Y_aM23HkF",
        "outputId": "a727a8a2-04fc-45d8-af93-b9bf33556d82"
      },
      "execution_count": null,
      "outputs": [
        {
          "output_type": "stream",
          "name": "stdout",
          "text": [
            "5\n"
          ]
        }
      ]
    },
    {
      "cell_type": "code",
      "source": [
        "def solution(n, computers):\n",
        "    answer = 0\n",
        "\n",
        "    visited = [False] * n # 방문여부\n",
        "\n",
        "    def dfs(v):\n",
        "\n",
        "      visited[v] = True\n",
        "\n",
        "      for i in range(n):\n",
        "        if (computers[v][i] == 1) and (visited[i] == False):\n",
        "          dfs(i)\n",
        "\n",
        "    for i in range(n):\n",
        "      if visited[i] == False:\n",
        "        dfs(i)\n",
        "        answer += 1\n",
        "\n",
        "    return answer\n",
        "\n",
        "\n",
        "n = 3\n",
        "computers = [[1, 1, 0], [1, 1, 0], [0, 0, 1]]\n",
        "print(solution(n, computers))"
      ],
      "metadata": {
        "colab": {
          "base_uri": "https://localhost:8080/"
        },
        "id": "xWto5aVbAILo",
        "outputId": "8a6ccd25-3eb5-4cd3-9d35-60dc52c653cd"
      },
      "execution_count": null,
      "outputs": [
        {
          "output_type": "stream",
          "name": "stdout",
          "text": [
            "2\n"
          ]
        }
      ]
    },
    {
      "cell_type": "code",
      "source": [
        "def dfs_recursive(graph, node, visited):\n",
        "    visited[node] = True  # 현재 노드를 방문 처리\n",
        "    print(node, end=' ')  # 탐색 순서를 출력 (옵션)\n",
        "\n",
        "    # 현재 노드와 연결된 다른 노드를 재귀적으로 방문\n",
        "    for neighbor in graph[node]:\n",
        "        if not visited[neighbor]:  # 방문하지 않은 노드라면\n",
        "            dfs_recursive(graph, neighbor, visited)\n",
        "\n",
        "\n",
        "# 그래프를 인접 리스트로 표현\n",
        "graph = {\n",
        "    0: [1, 2],\n",
        "    1: [0, 3, 4],\n",
        "    2: [0, 5],\n",
        "    3: [1],\n",
        "    4: [1],\n",
        "    5: [2]\n",
        "}\n",
        "\n",
        "# 방문 여부를 저장하는 리스트\n",
        "visited = [False] * len(graph)\n",
        "\n",
        "# DFS 탐색 시작 (0번 노드에서 시작)\n",
        "dfs_recursive(graph, 0, visited)"
      ],
      "metadata": {
        "colab": {
          "base_uri": "https://localhost:8080/"
        },
        "id": "WoK1R7g3LvaT",
        "outputId": "92716605-7d61-40ae-d5d2-f3195c0c0b8a"
      },
      "execution_count": null,
      "outputs": [
        {
          "output_type": "stream",
          "name": "stdout",
          "text": [
            "0 1 3 4 2 5 "
          ]
        }
      ]
    },
    {
      "cell_type": "code",
      "source": [
        "from collections import deque\n",
        "\n",
        "def solution(maps):\n",
        "\n",
        "    def bfs(graph, start):\n",
        "      n, m = len(graph), len(graph[0]) # 맵 크기(행, 열 구하기)\n",
        "      directions = [(-1, 0), (1, 0), (0, -1), (0, 1)] # 좌 / 우 / 하 / 상\n",
        "      visited = [[False for _ in range(m)] for _ in range(n)]\n",
        "      goal = (n - 1, m - 1)\n",
        "\n",
        "      queue = deque([(start[0], start[1], 1)]) # 시작, 거리\n",
        "      visited[start[0]][start[1]] = True # 첫 시작\n",
        "\n",
        "      while queue:\n",
        "        x, y, dist = queue.popleft() # 제일 앞에 거 (0, 0) 1 꺼내기\n",
        "\n",
        "        if (x, y) == goal:\n",
        "          return dist\n",
        "\n",
        "        for dx, dy in directions:\n",
        "          nx, ny = x + dx, y + dy\n",
        "          if (0 <= nx < n) and (0 <= ny < m) and not visited[nx][ny] and (graph[nx][ny] == 1):\n",
        "            visited[nx][ny] = True\n",
        "            queue.append((nx, ny, dist + 1))\n",
        "\n",
        "      return -1\n",
        "\n",
        "    return bfs(maps, (0,0))\n",
        "\n",
        "map = [[[1,0,1,1,1],[1,0,1,0,1],[1,0,1,1,1],[1,1,1,0,0],[0,0,0,0,1]]]\n",
        "\n",
        "solution(map)\n",
        "\n",
        "\n"
      ],
      "metadata": {
        "id": "Q4tZQ9SHSOD7",
        "colab": {
          "base_uri": "https://localhost:8080/"
        },
        "outputId": "da2d5eac-9fb0-437d-8ade-bd7254b17aea"
      },
      "execution_count": null,
      "outputs": [
        {
          "output_type": "execute_result",
          "data": {
            "text/plain": [
              "-1"
            ]
          },
          "metadata": {},
          "execution_count": 4
        }
      ]
    },
    {
      "cell_type": "code",
      "source": [
        "from collections import deque\n",
        "\n",
        "def solution(begin, target, words):\n",
        "\n",
        "    queue = deque()\n",
        "    queue.append([begin, 0])\n",
        "\n",
        "    while queue:\n",
        "        now, step = queue.popleft()\n",
        "\n",
        "        if now == target:\n",
        "            return step\n",
        "\n",
        "        for word in words:\n",
        "          now_count = 0\n",
        "          for i in range(len(now)):\n",
        "            if now[i] != word[i]:\n",
        "              now_count += 1\n",
        "\n",
        "          if now_count == 1:\n",
        "            queue.append([word, step+1])\n",
        "\n",
        "\n",
        "\n",
        "    return 0\n",
        "\n",
        "solution(\"hit\", \"cog\", [\"hot\", \"dot\", \"dog\", \"lot\", \"log\", \"cog\"])\n"
      ],
      "metadata": {
        "colab": {
          "base_uri": "https://localhost:8080/"
        },
        "id": "tGBOY_aPowsx",
        "outputId": "c0d02a1e-b330-4c1f-97ca-8e7c496b6064"
      },
      "execution_count": null,
      "outputs": [
        {
          "output_type": "execute_result",
          "data": {
            "text/plain": [
              "4"
            ]
          },
          "metadata": {},
          "execution_count": 10
        }
      ]
    },
    {
      "cell_type": "code",
      "source": [
        "def scope_test():\n",
        "    def do_local():\n",
        "        spam = \"local spam\" # local 변수\n",
        "\n",
        "    def do_nonlocal():\n",
        "        nonlocal spam\n",
        "        spam = \"nonlocal spam\" # nonlocal 변수\n",
        "\n",
        "    def do_global():\n",
        "        global spam\n",
        "        spam = \"global spam\" # global 변수\n",
        "\n",
        "    spam = \"test spam\" # local 변수\n",
        "    do_local()\n",
        "    print(\"After local assignment:\", spam)\n",
        "    do_nonlocal()\n",
        "    print(\"After nonlocal assignment:\", spam)\n",
        "    do_global()\n",
        "    print(\"After global assignment:\", spam)\n",
        "\n",
        "scope_test()\n",
        "print(\"In global scope:\", spam)\n",
        "\n",
        "# After local assignment: test spam\n",
        "# After nonlocal assignment: nonlocal spam\n",
        "# After global assignment: nonlocal spam\n",
        "# In global scope: global spam"
      ],
      "metadata": {
        "colab": {
          "base_uri": "https://localhost:8080/"
        },
        "id": "w6FTArMNWJsQ",
        "outputId": "3cb3a4c5-2979-487c-c2e6-0a164eb56806"
      },
      "execution_count": null,
      "outputs": [
        {
          "output_type": "stream",
          "name": "stdout",
          "text": [
            "After local assignment: test spam\n",
            "After nonlocal assignment: nonlocal spam\n",
            "After global assignment: nonlocal spam\n",
            "In global scope: global spam\n"
          ]
        }
      ]
    },
    {
      "cell_type": "code",
      "source": [
        "part = [\"leo\", \"kiki\", \"eden\"]\n",
        "complet = [\"kiki\", \"eden\"]\n",
        "\n",
        "part.sort()\n",
        "complet.sort()\n",
        "print(part)\n",
        "print(complet)\n"
      ],
      "metadata": {
        "colab": {
          "base_uri": "https://localhost:8080/"
        },
        "id": "frwa-02FZ48F",
        "outputId": "f61440ea-c3dd-4e9a-f925-27ef590bfa2f"
      },
      "execution_count": null,
      "outputs": [
        {
          "output_type": "stream",
          "name": "stdout",
          "text": [
            "['eden', 'kiki', 'leo']\n",
            "['eden', 'kiki']\n"
          ]
        }
      ]
    },
    {
      "cell_type": "code",
      "source": [
        "from collections import Counter\n",
        "\n",
        "def solution(nums):\n",
        "\n",
        "    select = len(nums)/2 # nums의 절반 (최대 종류)\n",
        "    select_type = len(Counter(nums)) # counter를 통해서 종류별로 몇 개 있는지 확인\n",
        "\n",
        "\n",
        "    return min(select, select_type) # 이 중에서 더 작은 거 선택"
      ],
      "metadata": {
        "id": "cMpFU_fzwAoe"
      },
      "execution_count": null,
      "outputs": []
    },
    {
      "cell_type": "code",
      "source": [
        "from collections import Counter\n",
        "\n",
        "part = [\"leo\", \"kiki\", \"eden\"]\n",
        "complet = [\"kiki\", \"eden\"]\n",
        "\n",
        "\n",
        "def solution(participant, completion):\n",
        "   answer = ''\n",
        "   part_dict = Counter(part)\n",
        "   complet_dict = Counter(complet)\n",
        "\n",
        "   for key in part_dict:\n",
        "    if part_dict[key] != complet_dict[key]:\n",
        "      answer += key\n",
        "\n",
        "\n",
        "   return answer\n",
        "solution(part, complet)"
      ],
      "metadata": {
        "colab": {
          "base_uri": "https://localhost:8080/",
          "height": 35
        },
        "id": "khxJtVxSU9xE",
        "outputId": "5977be8c-93d2-4006-8509-2509a708d57c"
      },
      "execution_count": null,
      "outputs": [
        {
          "output_type": "execute_result",
          "data": {
            "text/plain": [
              "'leo'"
            ],
            "application/vnd.google.colaboratory.intrinsic+json": {
              "type": "string"
            }
          },
          "metadata": {},
          "execution_count": 31
        }
      ]
    },
    {
      "cell_type": "code",
      "source": [
        "# 7점 받음 (ㄹㅈㄷ ㅋㅋ)\n",
        "# 틀린 이유: dict는 중복 key 삭제함\n",
        "from collections import Counter\n",
        "def solution(clothes):\n",
        "    answer = 0\n",
        "\n",
        "    clo_dict = dict(clothes)\n",
        "    clo_type = list(clo_dict.values())\n",
        "\n",
        "    # 최소 옷 1벌 당 입음\n",
        "    for name in clo_dict:\n",
        "        answer += 1\n",
        "\n",
        "    for i in range(len(clo_type) - 1):\n",
        "        current_type = clo_type[i]\n",
        "        next_type = clo_type[i + 1]\n",
        "        if current_type != next_type:\n",
        "            answer += 1\n",
        "\n",
        "\n",
        "\n",
        "    return answer"
      ],
      "metadata": {
        "colab": {
          "base_uri": "https://localhost:8080/"
        },
        "id": "7Rdw-trOibPN",
        "outputId": "0865d7f5-ad27-4777-e14a-fdf4cd388233"
      },
      "execution_count": null,
      "outputs": [
        {
          "output_type": "stream",
          "name": "stdout",
          "text": [
            "{'yellow_hat': 'headgear', 'blue_sunglasses': 'eyewear', 'green_turban': 'headgear'}\n",
            "dict_values(['headgear', 'eyewear', 'headgear'])\n",
            "headgear\n",
            "9\n"
          ]
        }
      ]
    },
    {
      "cell_type": "code",
      "source": [
        "# 입을지 / 안 입을지\n",
        "\n",
        "from collections import Counter\n",
        "def solution(clothes):\n",
        "  answer = 1 # 최소 1벌은 입음\n",
        "  clo_counter = Counter([kind for _, kind in clothes]) # 이름 / 종류로 구성돼 있는데 이름 제외하고 종류만 counter\n",
        "\n",
        "  for count in clo_counter.values():\n",
        "      answer *= (count + 1)  # 해당 종류를 입지 않는 경우 포함\n",
        "       # (headgear(count = 2)는 yellow_hat, green_turban, 안 입음. # eyewear는 blue_sunglasses, 안 입음 => 모든 조합 3x2 = 6 - 1(아무것도 안 입음) =5)\n",
        "\n",
        "    # 아무것도 입지 않는 경우 제외\n",
        "  return answer - 1\n",
        "\n"
      ],
      "metadata": {
        "id": "JfZFzx_JQBCR"
      },
      "execution_count": null,
      "outputs": []
    },
    {
      "cell_type": "code",
      "source": [
        "def solution(phone_book):\n",
        "    answer = True\n",
        "\n",
        "    phone_book.sort() # 작은 수부터 정렬하면은 더 쉽게 공통된 부분을 찾을 수 있음\n",
        "\n",
        "    for i in range(len(phone_book) - 1):\n",
        "        if phone_book[i + 1].startswith(phone_book[i]): # 문자열A.startswith(문자열X): 문자열A가 문자열X로 시작하는지 여부를 F/T\n",
        "            return False\n",
        "\n",
        "    return answer"
      ],
      "metadata": {
        "id": "6Lk3PdNZwy-_"
      },
      "execution_count": null,
      "outputs": []
    },
    {
      "cell_type": "code",
      "source": [
        "from collections import Counter\n",
        "def solution(genres, plays):\n",
        "  answer = []\n",
        "\n",
        "  genre_dict = dict(zip(genres,plays))\n",
        "\n",
        "\n",
        "\n",
        "  return answer"
      ],
      "metadata": {
        "id": "Ja7-aSSV29s2"
      },
      "execution_count": null,
      "outputs": []
    },
    {
      "cell_type": "code",
      "source": [
        "from collections import Counter, defaultdict\n",
        "genres = [\"classic\", \"pop\", \"classic\", \"classic\", \"pop\"]\n",
        "plays = [500, 600, 150, 800, 2500]\n",
        "\n",
        "answer = []\n",
        "\n",
        "genre_dict = defaultdict(list)\n",
        "for unique_num, (genre, play) in enumerate(zip(genres, plays)):\n",
        "  genre_dict[genre].append((unique_num, play))\n",
        "\n",
        "for genre in genre_dict:\n",
        "  genre_dict[genre].sort(key=lambda x:(-x[1], x[0]))\n",
        "  # x: genre_dict[genre]의 value (unique_num, play)\n",
        "  # -x[1]: play 기준으로 내림차순\n",
        "  # x[0]: unique_num 기준으로 오름차순\n",
        "  # 재생 횟수 기준으로 내림차순\n",
        "  # 재생 횟수가 같으면, 고유번호 기준으로 오름차순\n",
        "\n",
        "print(dict(genre_dict))\n",
        "\n",
        "play_sum = {genre: sum(play for _, play in genre_dict[genre]) for genre in genre_dict}\n",
        "print(play_sum)\n",
        "\n",
        "for genre in sorted(play_sum, key=play_sum.get, reverse=True):\n",
        "  answer.extend([play for play, unique_num in genre_dict[genre][:2]])\n",
        "\n",
        "print(answer)\n"
      ],
      "metadata": {
        "colab": {
          "base_uri": "https://localhost:8080/"
        },
        "id": "0kcAkElV5OsN",
        "outputId": "d7d791e4-76f2-47ed-e3b2-cf635fad3e3d"
      },
      "execution_count": null,
      "outputs": [
        {
          "output_type": "stream",
          "name": "stdout",
          "text": [
            "{'classic': [(3, 800), (0, 500), (2, 150)], 'pop': [(4, 2500), (1, 600)]}\n",
            "{'classic': 1450, 'pop': 3100}\n",
            "[4, 1, 3, 0]\n"
          ]
        }
      ]
    }
  ]
}